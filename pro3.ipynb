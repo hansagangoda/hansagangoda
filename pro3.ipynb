{
 "cells": [
  {
   "cell_type": "code",
   "execution_count": 1,
   "id": "5fd0b74b-e940-4f2b-8bee-fcc68c905420",
   "metadata": {},
   "outputs": [
    {
     "name": "stdin",
     "output_type": "stream",
     "text": [
      "Enter roll number in syntax(CS24B123):\n",
      " \n",
      " cs24b123\n"
     ]
    },
    {
     "name": "stdout",
     "output_type": "stream",
     "text": [
      "your branch is  cs Year is  24 Degree is  b and Position is 123\n"
     ]
    }
   ],
   "source": [
    "#Extracting fields ofa roll number using string indexing and slicing\n",
    "rollNumber=input(\"Enter roll number in syntax(CS24B123):\\n \\n\")\n",
    "branch=rollNumber[0:2]\n",
    "year=rollNumber[2:4]\n",
    "degree=rollNumber[4]\n",
    "position=rollNumber[5:8]\n",
    "\n",
    "print(\"your branch is \",branch,\"Year is \", year,\"Degree is \",degree,\"and Position is\",position)"
   ]
  },
  {
   "cell_type": "code",
   "execution_count": null,
   "id": "5bf38485-a9f3-437c-bc49-678277aad589",
   "metadata": {},
   "outputs": [],
   "source": []
  }
 ],
 "metadata": {
  "kernelspec": {
   "display_name": "Python 3 (ipykernel)",
   "language": "python",
   "name": "python3"
  },
  "language_info": {
   "codemirror_mode": {
    "name": "ipython",
    "version": 3
   },
   "file_extension": ".py",
   "mimetype": "text/x-python",
   "name": "python",
   "nbconvert_exporter": "python",
   "pygments_lexer": "ipython3",
   "version": "3.11.4"
  }
 },
 "nbformat": 4,
 "nbformat_minor": 5
}
