{
 "cells": [
  {
   "cell_type": "code",
   "execution_count": 1,
   "id": "e21aa24a-1414-4b68-8fad-b2f0386abf4f",
   "metadata": {},
   "outputs": [
    {
     "name": "stdout",
     "output_type": "stream",
     "text": [
      "find the probability of cards \n",
      " \n",
      "\n",
      "enter probability is 0.6923076923076923\n"
     ]
    }
   ],
   "source": [
    "#1 find the probability king,spade\n",
    "print(\"find the probability of cards \\n \\n\")\n",
    "cards=52\n",
    "spande=13\n",
    "king=4\n",
    "neither=cards-(spande+(king-1))\n",
    "probability=(neither/cards)\n",
    "print(\"enter probability is\",probability)"
   ]
  },
  {
   "cell_type": "code",
   "execution_count": null,
   "id": "c084fb27-dfe8-4627-9066-dec7b3825e23",
   "metadata": {},
   "outputs": [],
   "source": []
  }
 ],
 "metadata": {
  "kernelspec": {
   "display_name": "Python 3 (ipykernel)",
   "language": "python",
   "name": "python3"
  },
  "language_info": {
   "codemirror_mode": {
    "name": "ipython",
    "version": 3
   },
   "file_extension": ".py",
   "mimetype": "text/x-python",
   "name": "python",
   "nbconvert_exporter": "python",
   "pygments_lexer": "ipython3",
   "version": "3.11.4"
  }
 },
 "nbformat": 4,
 "nbformat_minor": 5
}
