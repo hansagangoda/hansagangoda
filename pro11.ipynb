{
 "cells": [
  {
   "cell_type": "code",
   "execution_count": null,
   "id": "13a079a3-cb36-47e1-89d7-996910bc3d15",
   "metadata": {},
   "outputs": [],
   "source": [
    "#pro 11. prime or not prime number print \n",
    "num=int(input(\"Enter the number:\"))\n",
    "if num>1:\n",
    "    for i in range(2,num):\n",
    "        if(num%i)==0:\n",
    "          print(num,\"is not prime\")\n",
    "          break\n",
    "    else:\n",
    "          print(num,\"is prime number\")"
   ]
  }
 ],
 "metadata": {
  "kernelspec": {
   "display_name": "Python 3 (ipykernel)",
   "language": "python",
   "name": "python3"
  },
  "language_info": {
   "codemirror_mode": {
    "name": "ipython",
    "version": 3
   },
   "file_extension": ".py",
   "mimetype": "text/x-python",
   "name": "python",
   "nbconvert_exporter": "python",
   "pygments_lexer": "ipython3",
   "version": "3.11.4"
  }
 },
 "nbformat": 4,
 "nbformat_minor": 5
}
