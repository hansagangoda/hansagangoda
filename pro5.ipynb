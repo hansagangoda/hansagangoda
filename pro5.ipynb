{
 "cells": [
  {
   "cell_type": "code",
   "execution_count": 1,
   "id": "18bcdf66-1364-4f9a-88c9-25a4fe42f5a4",
   "metadata": {},
   "outputs": [
    {
     "name": "stdin",
     "output_type": "stream",
     "text": [
      "Enter the first blood group: b\n",
      "Enter the second blood group: a\n"
     ]
    },
    {
     "name": "stdout",
     "output_type": "stream",
     "text": [
      "blood group is mismatch\n"
     ]
    }
   ],
   "source": [
    "#5 .write a program to find out if the two blood group match\n",
    "bg1=input(\"Enter the first blood group:\") #.split()\n",
    "bg2=input(\"Enter the second blood group:\")\n",
    "if bg1==bg2:\n",
    "\n",
    "    print(\"blood group is match.\")\n",
    "else:\n",
    "\n",
    "    print(\"blood group is mismatch\")\n",
    "    "
   ]
  },
  {
   "cell_type": "code",
   "execution_count": null,
   "id": "1b036fbe-87e9-49db-9780-38d70312f4ca",
   "metadata": {},
   "outputs": [],
   "source": []
  }
 ],
 "metadata": {
  "kernelspec": {
   "display_name": "Python 3 (ipykernel)",
   "language": "python",
   "name": "python3"
  },
  "language_info": {
   "codemirror_mode": {
    "name": "ipython",
    "version": 3
   },
   "file_extension": ".py",
   "mimetype": "text/x-python",
   "name": "python",
   "nbconvert_exporter": "python",
   "pygments_lexer": "ipython3",
   "version": "3.11.4"
  }
 },
 "nbformat": 4,
 "nbformat_minor": 5
}
