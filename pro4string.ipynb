{
 "cells": [
  {
   "cell_type": "code",
   "execution_count": 1,
   "id": "a6940bb9-f64b-4cf2-9321-c8d8cd520bd4",
   "metadata": {},
   "outputs": [
    {
     "name": "stdout",
     "output_type": "stream",
     "text": [
      "hansa gangoda hello ==  hhasa gangodaoan\n"
     ]
    }
   ],
   "source": [
    "#pro4.string manipution \n",
    "name=\"hansa gangoda hello\"\n",
    "first=name[:5]\n",
    "second=name[5:13]\n",
    "third=name[13:]\n",
    "\n",
    "first2=first[:2]\n",
    "first3=name[2]\n",
    "first4=first[3:5]\n",
    "first5=first[-1]\n",
    "\n",
    "third2=third[:2]\n",
    "third3=third[-1]\n",
    "\n",
    "\n",
    "name=first+second+third\n",
    "modified=third2+first2+first4+second+third3+first5+first3\n",
    "\n",
    "print(name,\"==\",modified)"
   ]
  },
  {
   "cell_type": "code",
   "execution_count": null,
   "id": "2e9a8747-6cbb-4158-9470-93ce4e856a17",
   "metadata": {},
   "outputs": [],
   "source": []
  }
 ],
 "metadata": {
  "kernelspec": {
   "display_name": "Python 3 (ipykernel)",
   "language": "python",
   "name": "python3"
  },
  "language_info": {
   "codemirror_mode": {
    "name": "ipython",
    "version": 3
   },
   "file_extension": ".py",
   "mimetype": "text/x-python",
   "name": "python",
   "nbconvert_exporter": "python",
   "pygments_lexer": "ipython3",
   "version": "3.11.4"
  }
 },
 "nbformat": 4,
 "nbformat_minor": 5
}
