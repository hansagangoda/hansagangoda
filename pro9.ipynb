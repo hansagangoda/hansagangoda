{
 "cells": [
  {
   "cell_type": "code",
   "execution_count": null,
   "id": "e3a036c4-524e-47a4-aca1-9496ad787517",
   "metadata": {},
   "outputs": [],
   "source": [
    "#9.print fibonacci sequence\n",
    "n=int(input(\"The fibonacci sequence of the number\"))\n",
    "x=0\n",
    "y=1\n",
    "z=0\n",
    "while(z<=n):\n",
    "    print(z)\n",
    "    x=y\n",
    "    y=z\n",
    "    z=x+y"
   ]
  }
 ],
 "metadata": {
  "kernelspec": {
   "display_name": "Python 3 (ipykernel)",
   "language": "python",
   "name": "python3"
  },
  "language_info": {
   "codemirror_mode": {
    "name": "ipython",
    "version": 3
   },
   "file_extension": ".py",
   "mimetype": "text/x-python",
   "name": "python",
   "nbconvert_exporter": "python",
   "pygments_lexer": "ipython3",
   "version": "3.11.4"
  }
 },
 "nbformat": 4,
 "nbformat_minor": 5
}
