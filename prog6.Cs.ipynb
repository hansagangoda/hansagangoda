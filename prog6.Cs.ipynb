{
 "cells": [
  {
   "cell_type": "code",
   "execution_count": 2,
   "id": "c86fa88c-0b69-4101-96f0-5341a0d55714",
   "metadata": {},
   "outputs": [
    {
     "name": "stdin",
     "output_type": "stream",
     "text": [
      "Enter the roll number syntax(BranchYearDegreePosition): CS24B12\n"
     ]
    },
    {
     "name": "stdout",
     "output_type": "stream",
     "text": [
      "Hi\n"
     ]
    }
   ],
   "source": [
    "#6.Cs department roll number in capital or smallcase letter\n",
    "rollnumber=input(\"Enter the roll number syntax(BranchYearDegreePosition):\")\n",
    "if rollnumber[0]=='C':\n",
    "    if rollnumber[1]=='S':\n",
    "        print(\"Hi\")\n",
    "        \n",
    "else:\n",
    "         print(\"Excuse me?\")"
   ]
  },
  {
   "cell_type": "code",
   "execution_count": null,
   "id": "59bd183c-36a0-4439-8d70-942ec45eace0",
   "metadata": {},
   "outputs": [],
   "source": []
  }
 ],
 "metadata": {
  "kernelspec": {
   "display_name": "Python 3 (ipykernel)",
   "language": "python",
   "name": "python3"
  },
  "language_info": {
   "codemirror_mode": {
    "name": "ipython",
    "version": 3
   },
   "file_extension": ".py",
   "mimetype": "text/x-python",
   "name": "python",
   "nbconvert_exporter": "python",
   "pygments_lexer": "ipython3",
   "version": "3.11.4"
  }
 },
 "nbformat": 4,
 "nbformat_minor": 5
}
