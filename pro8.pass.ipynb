{
 "cells": [
  {
   "cell_type": "code",
   "execution_count": 2,
   "id": "a250f757-ce43-4660-b159-25101662517b",
   "metadata": {},
   "outputs": [
    {
     "name": "stdin",
     "output_type": "stream",
     "text": [
      "enter the student number: 3\n",
      "enter the marks:1! 40\n",
      "enter the marks:2! 35\n",
      "enter the marks:3! 50\n"
     ]
    },
    {
     "name": "stdout",
     "output_type": "stream",
     "text": [
      "pass percentage  66.66666666666666\n"
     ]
    }
   ],
   "source": [
    "n=int(input(\"enter the student number:\"))\n",
    "sum=0\n",
    "count=0\n",
    "for i in range(n):\n",
    "    marks=int(input(\"enter the marks:\"+str(i+1)+\"!\"))\n",
    "    if marks>=40:\n",
    "        count=count+1\n",
    "        result=(count/n)*100\n",
    "print(\"pass percentage \",result)   "
   ]
  },
  {
   "cell_type": "code",
   "execution_count": null,
   "id": "12ca31b5-c1a9-42c3-a7d0-e5b4a837014b",
   "metadata": {},
   "outputs": [],
   "source": []
  }
 ],
 "metadata": {
  "kernelspec": {
   "display_name": "Python 3 (ipykernel)",
   "language": "python",
   "name": "python3"
  },
  "language_info": {
   "codemirror_mode": {
    "name": "ipython",
    "version": 3
   },
   "file_extension": ".py",
   "mimetype": "text/x-python",
   "name": "python",
   "nbconvert_exporter": "python",
   "pygments_lexer": "ipython3",
   "version": "3.11.4"
  }
 },
 "nbformat": 4,
 "nbformat_minor": 5
}
