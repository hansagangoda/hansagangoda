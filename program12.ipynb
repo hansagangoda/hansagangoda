{
 "cells": [
  {
   "cell_type": "code",
   "execution_count": 26,
   "id": "098ef702-e94b-4776-8e34-a535a1ca28c3",
   "metadata": {},
   "outputs": [
    {
     "name": "stdout",
     "output_type": "stream",
     "text": [
      "1,hansa\n",
      "2,tanu\n",
      "3,bugu\n",
      "4,hardik\n",
      "5,nakul\n"
     ]
    },
    {
     "name": "stdin",
     "output_type": "stream",
     "text": [
      "choose no for find student birth month: 3\n"
     ]
    }
   ],
   "source": [
    "d={\"hansa\":\"14/06/2003\",\"tanu\":\"11/08/2004\",\"bugu\":\"02\\12\\2003\",\"hardik\":\"12/11/2004\",\"nakul\":\"07/01/2001\"}\n",
    "c=1\n",
    "for i in d.keys():\n",
    "    print(str(c)+\",\"+i)\n",
    "    c+=1\n",
    "n=int(input(\"choose no for find student birth month:\"))\n",
    "search=\"null\"\n",
    "if n==1:\n",
    "    search=\"hansa\"\n",
    "elif n==2:\n",
    "    search=\"tanu\"\n",
    "elif n==3:\n",
    "    search=\"bugu\"\n",
    "elif n==4:\n",
    "    search=\"hardik\"\n",
    "elif n==5:\n",
    "    search=\"nakul\"\n",
    "else:\n",
    "    print(\"enter correct student no!...\")\n",
    "if search !=\"null\":\n",
    "    m={\"01\":\"january\",\"02\":\"february\",\"03\":\"march\",\"04\":\"april\",\"05\":\"may\",\"06\":\"june\",\"07\":\"july\",\"08\":\"august\",\"09\":\"september\",\"10\":\"octomber\",\"11\":\"november\",\"12\":\"december\"}\n",
    "    searchmonth=\"\"\n",
    "    if \"hansa\" in search:\n",
    "        searchmonth=d[\"hansa\"][3:5]\n",
    "    elif \"tanu\" in search:\n",
    "        seachmonth=d[\"tanu\"][3:5]\n",
    "    elif \"bugu\" in search:\n",
    "        searchmonth=d[\"bugu\"][3:5]\n",
    "    elif \"hardik\" in search:\n",
    "        searchmonth=d[\"hardik\"][3:5]\n",
    "    elif \"nakul\" in search:\n",
    "        searchmonth=d[\"nakul\"][3:5]\n",
    "    for i in m.keys():\n",
    "        if searchmonth in i:\n",
    "            print(m[i])"
   ]
  },
  {
   "cell_type": "code",
   "execution_count": 31,
   "id": "c57080a2-3408-4762-86bb-94aed12b3521",
   "metadata": {},
   "outputs": [
    {
     "name": "stdout",
     "output_type": "stream",
     "text": [
      "1,hansa\n",
      "2,hardik\n",
      "3,nakul\n"
     ]
    },
    {
     "name": "stdin",
     "output_type": "stream",
     "text": [
      "choose no for find student birth month: 1\n"
     ]
    },
    {
     "name": "stdout",
     "output_type": "stream",
     "text": [
      "june\n"
     ]
    }
   ],
   "source": [
    "d={\"hansa\":\"14/06/2003\",\"hardik\":\"12/11/2004\",\"nakul\":\"07/01/2001\"}\n",
    "c=1\n",
    "for i in d.keys():\n",
    "    print(str(c)+\",\"+i)\n",
    "    c+=1\n",
    "n=int(input(\"choose no for find student birth month:\"))\n",
    "search=\"null\"\n",
    "if n==1:\n",
    "    search=\"hansa\"\n",
    "\n",
    "elif n==2:\n",
    "    search=\"hardik\"\n",
    "elif n==3:\n",
    "    search=\"nakul\"\n",
    "else:\n",
    "    print(\"enter correct student no!...\")\n",
    "if search !=\"null\":\n",
    "    m={\"01\":\"january\",\"02\":\"february\",\"03\":\"march\",\"04\":\"april\",\"05\":\"may\",\"06\":\"june\",\"07\":\"july\",\"08\":\"august\",\"09\":\"september\",\"10\":\"octomber\",\"11\":\"november\",\"12\":\"december\"}\n",
    "    searchmonth=\"\"\n",
    "    if \"hansa\" in search:\n",
    "        searchmonth=d[\"hansa\"][3:5]\n",
    "   \n",
    "    elif \"hardik\" in search:\n",
    "        searchmonth=d[\"hardik\"][3:5]\n",
    "    elif \"nakul\" in search:\n",
    "        searchmonth=d[\"nakul\"][3:5]\n",
    "    for i in m.keys():\n",
    "        if searchmonth in i:\n",
    "            print(m[i])"
   ]
  },
  {
   "cell_type": "code",
   "execution_count": null,
   "id": "2d7b8991-d5a6-41b1-86bf-923f46d1927d",
   "metadata": {},
   "outputs": [],
   "source": []
  }
 ],
 "metadata": {
  "kernelspec": {
   "display_name": "Python 3 (ipykernel)",
   "language": "python",
   "name": "python3"
  },
  "language_info": {
   "codemirror_mode": {
    "name": "ipython",
    "version": 3
   },
   "file_extension": ".py",
   "mimetype": "text/x-python",
   "name": "python",
   "nbconvert_exporter": "python",
   "pygments_lexer": "ipython3",
   "version": "3.11.4"
  }
 },
 "nbformat": 4,
 "nbformat_minor": 5
}
